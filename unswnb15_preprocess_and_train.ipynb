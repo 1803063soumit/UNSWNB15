{
 "cells": [
  {
   "cell_type": "code",
   "execution_count": 1,
   "id": "06a88945",
   "metadata": {
    "_cell_guid": "b1076dfc-b9ad-4769-8c92-a6c4dae69d19",
    "_uuid": "8f2839f25d086af736a60e9eeb907d3b93b6e0e5",
    "execution": {
     "iopub.execute_input": "2024-01-01T11:59:01.715004Z",
     "iopub.status.busy": "2024-01-01T11:59:01.714515Z",
     "iopub.status.idle": "2024-01-01T11:59:04.052241Z",
     "shell.execute_reply": "2024-01-01T11:59:04.050925Z"
    },
    "papermill": {
     "duration": 2.346987,
     "end_time": "2024-01-01T11:59:04.055435",
     "exception": false,
     "start_time": "2024-01-01T11:59:01.708448",
     "status": "completed"
    },
    "tags": []
   },
   "outputs": [],
   "source": [
    "import pandas as pd\n",
    "import numpy as np\n",
    "from sklearn.preprocessing import MinMaxScaler,LabelEncoder\n",
    "from sklearn.feature_selection import VarianceThreshold,mutual_info_classif\n",
    "import matplotlib.pyplot as plt"
   ]
  },
  {
   "cell_type": "code",
   "execution_count": 2,
   "id": "e9d4b421",
   "metadata": {
    "execution": {
     "iopub.execute_input": "2024-01-01T11:59:04.065925Z",
     "iopub.status.busy": "2024-01-01T11:59:04.065303Z",
     "iopub.status.idle": "2024-01-01T11:59:04.101739Z",
     "shell.execute_reply": "2024-01-01T11:59:04.100453Z"
    },
    "papermill": {
     "duration": 0.045745,
     "end_time": "2024-01-01T11:59:04.105135",
     "exception": false,
     "start_time": "2024-01-01T11:59:04.059390",
     "status": "completed"
    },
    "tags": []
   },
   "outputs": [],
   "source": [
    "class Preprocess:\n",
    "    def __init__(self,train_file_path,test_file_path):\n",
    "        self.train_df = pd.read_parquet(train_file_path)\n",
    "        self.test_df = pd.read_parquet(test_file_path)\n",
    "        self.lb_ub={}\n",
    "    def standardization(self,dataframe,col_name):\n",
    "        mean_val = dataframe[col_name].mean()\n",
    "        std_val = dataframe[col_name].std()\n",
    "        dataframe[col_name]=((dataframe[col_name]-mean_val)/std_val)\n",
    "    \n",
    "    def remove_outlier(self,data_frame,column_name,isTest=False,verbose=0):\n",
    "        if isTest:\n",
    "            data_frame.loc[data_frame[column_name] > self.lb_ub[column_name][1] , column_name] = self.lb_ub[column_name][1]\n",
    "            data_frame.loc[data_frame[column_name] < self.lb_ub[column_name][0] , column_name] = self.lb_ub[column_name][0]\n",
    "            return\n",
    "        l = data_frame[column_name].min()\n",
    "        r = data_frame[column_name].max()\n",
    "        q1 = data_frame[column_name].quantile(0.25)\n",
    "        q3 = data_frame[column_name].quantile(0.75)\n",
    "        iqr = q3 -q1\n",
    "        lb = q1-3*iqr\n",
    "        ub = q3+3*iqr\n",
    "\n",
    "        num_outliers = data_frame[(data_frame[column_name]<lb) | (data_frame[column_name]>ub)].shape[0]\n",
    "\n",
    "        data_frame.loc[data_frame[column_name] > ub , column_name] = ub\n",
    "        data_frame.loc[data_frame[column_name] < lb , column_name] = lb\n",
    "        self.lb_ub[column_name]=(lb,ub)\n",
    "        if verbose == 1: \n",
    "            print(\"Min Value= \",l)\n",
    "            print(\"Lower Bound = \",self.lb)\n",
    "            print(\"Q1 = \",q1)\n",
    "            print(\"Q2 = \",q3)\n",
    "            print(\"Upper Bound = \", self.ub)\n",
    "            print(\"Max Value = \",r)\n",
    "            print(\"Number of Outliers = \",num_outliers)\n",
    "            \n",
    "    def get_correlated_features(self,correlation_matrix, threshold=0.8):\n",
    "        num_features = correlation_matrix.shape[0]\n",
    "        correlated_features = set()\n",
    "\n",
    "        for i in range(num_features):\n",
    "            for j in range(i + 1, num_features):\n",
    "                correlation = correlation_matrix[i, j]\n",
    "                if correlation >= threshold:\n",
    "                    correlated_features.add((i,j))\n",
    "\n",
    "        return correlated_features\n",
    "\n",
    "    def train_set_preprocess(self):\n",
    "        train_mal_df = self.train_df[self.train_df['label'] == 1]\n",
    "        train_normal_df = self.train_df[self.train_df['label'] == 0]\n",
    "        \n",
    "        #outlier clipping \n",
    "        col = 'dur'\n",
    "        self.remove_outlier(self.train_df,col)\n",
    "        \n",
    "        #max-value clipping\n",
    "        self.cols_muls = {'spkts': 1.2, 'sloss': 1.2, 'dloss': 1.2}\n",
    "        self.cols_maxvals = {}\n",
    "        for col, multiplier in self.cols_muls.items():\n",
    "            self.cols_maxvals[col] = train_normal_df[col].max()\n",
    "            self.train_df.loc[self.train_df[col] > self.cols_maxvals[col], col] = (self.cols_maxvals[col] * multiplier)\n",
    "\n",
    "        #clipping to 1\n",
    "        self.columns_to_limit = ['is_ftp_login', 'ct_ftp_cmd']\n",
    "        for col in self.columns_to_limit:\n",
    "            self.train_df.loc[self.train_df[col] > 1, col] = 1\n",
    "            \n",
    "        #drop columns\n",
    "        self.columns_to_drop = ['swin', 'stcpb', 'dtcpb', 'dwin', 'attack_cat']\n",
    "        self.train_df = self.train_df.drop(columns=self.columns_to_drop, axis=1)\n",
    "        \n",
    "        #categical data handling\n",
    "        col = 'proto'\n",
    "        valid_protos = ['tcp', 'udp', 'arp', 'ospf', 'igmp', 'icmp', 'rtp']\n",
    "        self.train_df[col] = self.train_df[col].apply(lambda x: x if x in valid_protos else 'm')\n",
    "\n",
    "        valid_protos = ['igmp', 'icmp', 'rtp']\n",
    "        self.train_df[col] = self.train_df[col].apply(lambda x: x if x not in valid_protos else 'n')\n",
    "        \n",
    "        self.train_df = pd.get_dummies(self.train_df, columns=[col], prefix='proto', drop_first=False)\n",
    "\n",
    "        label_encoder = LabelEncoder()\n",
    "        col = 'service'\n",
    "        self.train_df[col] = label_encoder.fit_transform(self.train_df[col])\n",
    "        \n",
    "        col = 'state'\n",
    "        temp = ['RST', 'ECO', 'PAR', 'URN', 'no']\n",
    "        self.train_df[col] = self.train_df[col].apply(lambda x: x if x not in temp else 'm')\n",
    "        self.train_df[col] = label_encoder.fit_transform(self.train_df[col])\n",
    "        \n",
    "        self.train_df = self.train_df.replace({True: 0, False: 1})\n",
    "        \n",
    "        #feature selection\n",
    "        self.X_train = self.train_df.drop('label', axis=1)\n",
    "        self.y_train = self.train_df['label']\n",
    "        \n",
    "        #remove constant features\n",
    "        var_thres = VarianceThreshold(threshold = 0)\n",
    "        var_thres.fit(self.X_train)\n",
    "        self.dropable_const_cols = self.X_train.columns[[not col for col in var_thres.get_support()]]\n",
    "        self.X_train = self.X_train.drop(self.dropable_const_cols,axis=1)\n",
    "        \n",
    "        #remove correlated features\n",
    "        correlation_matrix = np.corrcoef(self.X_train, rowvar=False)\n",
    "        self.correlated_features = [self.X_train.columns[x[0]] for x in self.get_correlated_features(correlation_matrix,0.95) ]\n",
    "        self.X_train=self.X_train.drop(self.correlated_features,axis=1)\n",
    "        \n",
    "        #standardization\n",
    "        for col in self.X_train.columns:\n",
    "            self.standardization(self.X_train,col)\n",
    "\n",
    "    def test_set_preprocess(self):\n",
    "        test_mal_df = self.test_df[self.test_df['label'] == 1]\n",
    "        test_normal_df = self.test_df[self.test_df['label'] == 0]\n",
    "        \n",
    "        #outlier clipping \n",
    "        col = 'dur'\n",
    "        self.remove_outlier(self.test_df,col,True)\n",
    "        \n",
    "        #max-value clipping\n",
    "        for col, multiplier in self.cols_muls.items():\n",
    "            self.test_df.loc[self.test_df[col] > self.cols_maxvals[col], col] = (self.cols_maxvals[col] * multiplier)\n",
    "\n",
    "        #clipping to 1\n",
    "        for col in self.columns_to_limit:\n",
    "            self.test_df.loc[self.test_df[col] > 1, col] = 1\n",
    "            \n",
    "        #drop columns\n",
    "        self.test_df = self.test_df.drop(columns=self.columns_to_drop, axis=1)\n",
    "        \n",
    "        #categical data handling\n",
    "        col = 'proto'\n",
    "        valid_protos = ['tcp', 'udp', 'arp', 'ospf', 'igmp', 'icmp', 'rtp']\n",
    "        self.test_df[col] = self.test_df[col].apply(lambda x: x if x in valid_protos else 'm')\n",
    "\n",
    "        valid_protos = ['igmp', 'icmp', 'rtp']\n",
    "        self.test_df[col] = self.test_df[col].apply(lambda x: x if x not in valid_protos else 'n')\n",
    "        \n",
    "        #one hot encoding\n",
    "        self.test_df = pd.get_dummies(self.test_df, columns=[col], prefix='proto', drop_first=False)\n",
    "\n",
    "        label_encoder = LabelEncoder()\n",
    "        col = 'service'\n",
    "        self.test_df[col] = label_encoder.fit_transform(self.test_df[col])\n",
    "        \n",
    "        col = 'state'\n",
    "        temp = ['RST', 'ECO', 'PAR', 'URN', 'no']\n",
    "        self.test_df[col] = self.test_df[col].apply(lambda x: x if x not in temp else 'm')\n",
    "        self.test_df[col] = label_encoder.fit_transform(self.test_df[col])\n",
    "        \n",
    "        self.test_df = self.test_df.replace({True: 0, False: 1})\n",
    "        \n",
    "        #feature selection\n",
    "        self.X_test = self.test_df.drop('label', axis=1)\n",
    "        self.y_test = self.test_df['label']\n",
    "        \n",
    "        #remove constant features\n",
    "        self.X_test = self.X_test.drop(self.dropable_const_cols,axis=1)\n",
    "        \n",
    "        #remove correlated features\n",
    "        self.X_test=self.X_test.drop(self.correlated_features,axis=1)\n",
    "        \n",
    "        #standardization\n",
    "        for col in self.X_test.columns:\n",
    "            self.standardization(self.X_test,col)\n"
   ]
  },
  {
   "cell_type": "code",
   "execution_count": 3,
   "id": "1305122c",
   "metadata": {
    "execution": {
     "iopub.execute_input": "2024-01-01T11:59:04.116046Z",
     "iopub.status.busy": "2024-01-01T11:59:04.115512Z",
     "iopub.status.idle": "2024-01-01T11:59:04.121955Z",
     "shell.execute_reply": "2024-01-01T11:59:04.120136Z"
    },
    "papermill": {
     "duration": 0.016034,
     "end_time": "2024-01-01T11:59:04.125015",
     "exception": false,
     "start_time": "2024-01-01T11:59:04.108981",
     "status": "completed"
    },
    "tags": []
   },
   "outputs": [],
   "source": [
    "train_file_path = '/kaggle/input/unswnb15/UNSW_NB15_testing-set.parquet'\n",
    "test_file_path = \"/kaggle/input/unswnb15/UNSW_NB15_training-set.parquet\""
   ]
  },
  {
   "cell_type": "code",
   "execution_count": 4,
   "id": "fd3951c7",
   "metadata": {
    "execution": {
     "iopub.execute_input": "2024-01-01T11:59:04.134616Z",
     "iopub.status.busy": "2024-01-01T11:59:04.133819Z",
     "iopub.status.idle": "2024-01-01T11:59:06.080838Z",
     "shell.execute_reply": "2024-01-01T11:59:06.079549Z"
    },
    "papermill": {
     "duration": 1.955029,
     "end_time": "2024-01-01T11:59:06.083776",
     "exception": false,
     "start_time": "2024-01-01T11:59:04.128747",
     "status": "completed"
    },
    "tags": []
   },
   "outputs": [],
   "source": [
    "processed = Preprocess(train_file_path,test_file_path)\n",
    "processed.train_set_preprocess()\n",
    "processed.test_set_preprocess()"
   ]
  },
  {
   "cell_type": "code",
   "execution_count": 5,
   "id": "04a2ffbc",
   "metadata": {
    "execution": {
     "iopub.execute_input": "2024-01-01T11:59:06.093150Z",
     "iopub.status.busy": "2024-01-01T11:59:06.092644Z",
     "iopub.status.idle": "2024-01-01T11:59:06.098435Z",
     "shell.execute_reply": "2024-01-01T11:59:06.097226Z"
    },
    "papermill": {
     "duration": 0.013787,
     "end_time": "2024-01-01T11:59:06.101098",
     "exception": false,
     "start_time": "2024-01-01T11:59:06.087311",
     "status": "completed"
    },
    "tags": []
   },
   "outputs": [],
   "source": [
    "X_train = processed.X_train\n",
    "y_train = processed.y_train\n",
    "\n",
    "X_test = processed.X_test\n",
    "y_test = processed.y_test"
   ]
  },
  {
   "cell_type": "code",
   "execution_count": 6,
   "id": "3254de46",
   "metadata": {
    "execution": {
     "iopub.execute_input": "2024-01-01T11:59:06.110536Z",
     "iopub.status.busy": "2024-01-01T11:59:06.109627Z",
     "iopub.status.idle": "2024-01-01T11:59:06.119221Z",
     "shell.execute_reply": "2024-01-01T11:59:06.118256Z"
    },
    "papermill": {
     "duration": 0.016679,
     "end_time": "2024-01-01T11:59:06.121347",
     "exception": false,
     "start_time": "2024-01-01T11:59:06.104668",
     "status": "completed"
    },
    "tags": []
   },
   "outputs": [
    {
     "data": {
      "text/plain": [
       "Index(['dur', 'service', 'state', 'spkts', 'sbytes', 'dbytes', 'rate', 'sload',\n",
       "       'dload', 'sloss', 'dloss', 'sinpkt', 'dinpkt', 'sjit', 'djit', 'tcprtt',\n",
       "       'synack', 'ackdat', 'smean', 'dmean', 'trans_depth',\n",
       "       'response_body_len', 'ct_src_dport_ltm', 'ct_dst_sport_ltm',\n",
       "       'ct_ftp_cmd', 'ct_flw_http_mthd', 'is_sm_ips_ports', 'proto_arp',\n",
       "       'proto_m', 'proto_n', 'proto_ospf', 'proto_tcp', 'proto_udp'],\n",
       "      dtype='object')"
      ]
     },
     "execution_count": 6,
     "metadata": {},
     "output_type": "execute_result"
    }
   ],
   "source": [
    "X_train.columns"
   ]
  },
  {
   "cell_type": "code",
   "execution_count": 7,
   "id": "e1213ad7",
   "metadata": {
    "execution": {
     "iopub.execute_input": "2024-01-01T11:59:06.131399Z",
     "iopub.status.busy": "2024-01-01T11:59:06.130601Z",
     "iopub.status.idle": "2024-01-01T11:59:48.707341Z",
     "shell.execute_reply": "2024-01-01T11:59:48.705628Z"
    },
    "papermill": {
     "duration": 42.585499,
     "end_time": "2024-01-01T11:59:48.710616",
     "exception": false,
     "start_time": "2024-01-01T11:59:06.125117",
     "status": "completed"
    },
    "tags": []
   },
   "outputs": [],
   "source": [
    "from sklearn.ensemble import RandomForestClassifier\n",
    "rf_classifier = RandomForestClassifier(n_estimators=100, random_state=42)\n",
    "\n",
    "# Train the Random Forest classifier on the training data\n",
    "history = rf_classifier.fit(X_train, y_train)\n",
    "\n"
   ]
  },
  {
   "cell_type": "code",
   "execution_count": 8,
   "id": "68b1c217",
   "metadata": {
    "execution": {
     "iopub.execute_input": "2024-01-01T11:59:48.720626Z",
     "iopub.status.busy": "2024-01-01T11:59:48.720119Z",
     "iopub.status.idle": "2024-01-01T11:59:49.634529Z",
     "shell.execute_reply": "2024-01-01T11:59:49.633161Z"
    },
    "papermill": {
     "duration": 0.922611,
     "end_time": "2024-01-01T11:59:49.637197",
     "exception": false,
     "start_time": "2024-01-01T11:59:48.714586",
     "status": "completed"
    },
    "tags": []
   },
   "outputs": [
    {
     "name": "stdout",
     "output_type": "stream",
     "text": [
      "Accuracy: 80.43%\n",
      "Classification Report:\n",
      "              precision    recall  f1-score   support\n",
      "\n",
      "           0       0.99      0.57      0.72     37000\n",
      "           1       0.74      0.99      0.85     45332\n",
      "\n",
      "    accuracy                           0.80     82332\n",
      "   macro avg       0.86      0.78      0.79     82332\n",
      "weighted avg       0.85      0.80      0.79     82332\n",
      "\n"
     ]
    }
   ],
   "source": [
    "from sklearn.metrics import accuracy_score,classification_report\n",
    "# Make predictions on the test set\n",
    "y_pred = rf_classifier.predict(X_test)\n",
    "\n",
    "# Evaluate the accuracy\n",
    "accuracy = accuracy_score(y_test, y_pred)\n",
    "print(f\"Accuracy: {accuracy * 100:.2f}%\")\n",
    "\n",
    "report = classification_report(y_test, y_pred)\n",
    "print(\"Classification Report:\")\n",
    "print(report)"
   ]
  },
  {
   "cell_type": "code",
   "execution_count": null,
   "id": "5dfdcc1c",
   "metadata": {
    "papermill": {
     "duration": 0.003294,
     "end_time": "2024-01-01T11:59:49.644315",
     "exception": false,
     "start_time": "2024-01-01T11:59:49.641021",
     "status": "completed"
    },
    "tags": []
   },
   "outputs": [],
   "source": []
  }
 ],
 "metadata": {
  "kaggle": {
   "accelerator": "none",
   "dataSources": [
    {
     "datasetId": 2391328,
     "sourceId": 4472809,
     "sourceType": "datasetVersion"
    }
   ],
   "dockerImageVersionId": 30626,
   "isGpuEnabled": false,
   "isInternetEnabled": true,
   "language": "python",
   "sourceType": "notebook"
  },
  "kernelspec": {
   "display_name": "Python 3",
   "language": "python",
   "name": "python3"
  },
  "language_info": {
   "codemirror_mode": {
    "name": "ipython",
    "version": 3
   },
   "file_extension": ".py",
   "mimetype": "text/x-python",
   "name": "python",
   "nbconvert_exporter": "python",
   "pygments_lexer": "ipython3",
   "version": "3.10.12"
  },
  "papermill": {
   "default_parameters": {},
   "duration": 52.28541,
   "end_time": "2024-01-01T11:59:50.571484",
   "environment_variables": {},
   "exception": null,
   "input_path": "__notebook__.ipynb",
   "output_path": "__notebook__.ipynb",
   "parameters": {},
   "start_time": "2024-01-01T11:58:58.286074",
   "version": "2.4.0"
  }
 },
 "nbformat": 4,
 "nbformat_minor": 5
}
